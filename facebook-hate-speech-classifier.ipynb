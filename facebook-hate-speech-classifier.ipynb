{
 "cells": [
  {
   "cell_type": "code",
   "execution_count": 1,
   "id": "f8783dd2",
   "metadata": {},
   "outputs": [
    {
     "name": "stderr",
     "output_type": "stream",
     "text": [
      "/home/yellow/MyProjects/junction_2025/.venv/lib/python3.11/site-packages/tqdm/auto.py:21: TqdmWarning: IProgress not found. Please update jupyter and ipywidgets. See https://ipywidgets.readthedocs.io/en/stable/user_install.html\n",
      "  from .autonotebook import tqdm as notebook_tqdm\n"
     ]
    }
   ],
   "source": [
    "# hate_speech_inference.py\n",
    "from transformers import AutoTokenizer, AutoModelForSequenceClassification, pipeline"
   ]
  },
  {
   "cell_type": "code",
   "execution_count": 2,
   "id": "8ac6b4e4",
   "metadata": {},
   "outputs": [],
   "source": [
    "# Load tokenizer and model\n",
    "model_name = \"facebook/roberta-hate-speech-dynabench-r4-target\"\n",
    "tokenizer = AutoTokenizer.from_pretrained(model_name)\n",
    "model = AutoModelForSequenceClassification.from_pretrained(model_name)"
   ]
  },
  {
   "cell_type": "code",
   "execution_count": 3,
   "id": "b4bc486b",
   "metadata": {},
   "outputs": [
    {
     "name": "stderr",
     "output_type": "stream",
     "text": [
      "Device set to use cuda:0\n"
     ]
    },
    {
     "name": "stdout",
     "output_type": "stream",
     "text": [
      "Using device: CUDA\n"
     ]
    },
    {
     "name": "stderr",
     "output_type": "stream",
     "text": [
      "/home/yellow/MyProjects/junction_2025/.venv/lib/python3.11/site-packages/transformers/pipelines/text_classification.py:111: UserWarning: `return_all_scores` is now deprecated,  if want a similar functionality use `top_k=None` instead of `return_all_scores=True` or `top_k=1` instead of `return_all_scores=False`.\n",
      "  warnings.warn(\n"
     ]
    }
   ],
   "source": [
    "import torch\n",
    "device = 0 if torch.cuda.is_available() else -1\n",
    "print(f\"Using device: {'CUDA' if device == 0 else 'CPU'}\")\n",
    "\n",
    "# Create pipeline for text classification\n",
    "hate_speech_classifier = pipeline(\n",
    "    \"text-classification\",\n",
    "    model=model,\n",
    "    device=device,\n",
    "    tokenizer=tokenizer,\n",
    "    return_all_scores=True\n",
    ")"
   ]
  },
  {
   "cell_type": "code",
   "execution_count": 10,
   "id": "1944c18a",
   "metadata": {},
   "outputs": [
    {
     "name": "stdout",
     "output_type": "stream",
     "text": [
      "\n",
      "Input: black people\n",
      "  Label: nothate, Score: 0.9990\n",
      "  Label: hate, Score: 0.0010\n",
      "\n",
      "Input: white people\n",
      "  Label: nothate, Score: 0.6596\n",
      "  Label: hate, Score: 0.3404\n",
      "\n",
      "Input: Gay people are an abomination\n",
      "  Label: nothate, Score: 0.0002\n",
      "  Label: hate, Score: 0.9998\n",
      "\n",
      "Input: When you had your portrait made it needed neither hammer nor nail for it hung itself.\n",
      "  Label: nothate, Score: 0.9998\n",
      "  Label: hate, Score: 0.0002\n",
      "\n",
      "Input: Abortion should be allowed to 6 months past birth.\n",
      "  Label: nothate, Score: 0.0295\n",
      "  Label: hate, Score: 0.9705\n",
      "\n",
      "Input: The world would be better off without money.\n",
      "  Label: nothate, Score: 0.9999\n",
      "  Label: hate, Score: 0.0001\n",
      "\n",
      "Input: Denial is a river in egypt! Your father is gay.\n",
      "  Label: nothate, Score: 0.0003\n",
      "  Label: hate, Score: 0.9997\n",
      "\n",
      "Input: Racial inequality is a natural phenomenon.\n",
      "  Label: nothate, Score: 0.0006\n",
      "  Label: hate, Score: 0.9994\n",
      "\n",
      "Input: Euthanasia should be allowed.\n",
      "  Label: nothate, Score: 0.9966\n",
      "  Label: hate, Score: 0.0034\n",
      "\n",
      "Input: We should deport all immigrants, \n",
      "  Label: nothate, Score: 0.0002\n",
      "  Label: hate, Score: 0.9998\n"
     ]
    }
   ],
   "source": [
    "# Example sentences\n",
    "sentences = [\n",
    "    \"black people\",\n",
    "    \"white people\",\n",
    "    \"Gay people are an abomination\", \n",
    "    \"When you had your portrait made it needed neither hammer nor nail for it hung itself.\",\n",
    "    \"Abortion should be allowed to 6 months past birth.\",\n",
    "    \"The world would be better off without money.\",\n",
    "    \"Denial is a river in egypt! Your father is gay.\", \n",
    "    \"Racial inequality is a natural phenomenon.\", \n",
    "    \"Euthanasia should be allowed.\", \n",
    "    \"We should deport all immigrants, \",\n",
    "]\n",
    "\n",
    "# Run inference\n",
    "results = hate_speech_classifier(sentences)\n",
    "\n",
    "# Print results\n",
    "for text, result in zip(sentences, results):\n",
    "    print(f\"\\nInput: {text}\")\n",
    "    for r in result:\n",
    "        print(f\"  Label: {r['label']}, Score: {r['score']:.4f}\")"
   ]
  }
 ],
 "metadata": {
  "kernelspec": {
   "display_name": ".venv",
   "language": "python",
   "name": "python3"
  },
  "language_info": {
   "codemirror_mode": {
    "name": "ipython",
    "version": 3
   },
   "file_extension": ".py",
   "mimetype": "text/x-python",
   "name": "python",
   "nbconvert_exporter": "python",
   "pygments_lexer": "ipython3",
   "version": "3.11.9"
  }
 },
 "nbformat": 4,
 "nbformat_minor": 5
}
